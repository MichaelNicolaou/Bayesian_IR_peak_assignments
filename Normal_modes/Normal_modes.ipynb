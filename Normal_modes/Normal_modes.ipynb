{
 "cells": [
  {
   "cell_type": "markdown",
   "id": "0c30d49c",
   "metadata": {},
   "source": [
    "# Normal mode viewing tool #"
   ]
  },
  {
   "cell_type": "markdown",
   "id": "4292c7b3",
   "metadata": {},
   "source": [
    "The purpose of this script is to take the variables file and the excel spreadsheet (Molecule_Normal_modes) produced by the \"Pipeline for Gaussian results\" script (Pipeline_Gaussian) and extract high contributing normal mode displacements (i.e. the molecular movements expressed as bond stretching/bending/wagging that are most intensive in a vibrational mode) for a selection of normal modes given by the user. \n",
    "\n",
    "In this work, bond \"stretching\" is defined as a change in bond length (R) between 2 atoms, bond \"bending\" is defined as a change in bond angle (A) between 3 atoms and bond \"wagging\" is defined as a change in dihedral bond angle (D) between 4 atoms.\n",
    "\n",
    "\"Combined\" contribution modes in this script refer to two displacements that show the same atomic \"movement\" (e.g. if we imagine a hydrogen atom on the ortho-position of a benzene ring (Carbons named C1, C2 ... C6 clock-wise), performing an in-plane bending vibration, the same vibration is described by the change between both the H-C2-C1 and H-C2-C3 bond angles) and so if both of those changes add up to a significant contribution, they are are also included. \n",
    "\n",
    "Unlike other scripts, this script is intended to be used as a functional tool by itself rather than just produce a flow of data. The user can select a molecule and a list of normal modes (as they are indexed in the Gaussian results file) and the script will produce a dictionary of dictionaries of all displacements with their contributions for all vibrational modes (i.e. a labelled 2-column \"table\" in which each row represents each selected vibrational mode, giving access to another storage order of each vibrational mode's \"Stretching\", \"Bending\" and \"Wagging\" vibrations as a table with each important displacement (>4% selected here) and its percentage contribution).\n",
    "\n",
    "This works quite well using the Spyder Python environment, as it provides a \"variable explorer\" GUI, on which the produced tables can simply be clicked on and opened (see below).\n",
    "\n",
    "![alt text](Pipeline_modes_1.jpg \"Produced variable\")\n",
    "\n",
    "The \"Vibrations_vanillin\" variable contains the organised information (name of the molecule replaces vanillin for other molecules).\n",
    "\n",
    "![alt text](Pipeline_modes_2.jpg \"Dictionary of dictionaries\")\n",
    "\n",
    "Clicking on it opens up the dictionary containing all vibrational modes.\n",
    "\n",
    "![alt text](Pipeline_modes_3.jpg \"Normal mode\")\n",
    "\n",
    "Clicking on a vibrational mode (in this case number 20) opens the stored information on important stretching, bending and wagging bond displacements.\n",
    "\n",
    "![alt text](Pipeline_modes_4.jpg \"Important vibrations\")\n",
    "\n",
    "Clicking on one category of displacements (in this case \"Wagging\" displacements)."
   ]
  },
  {
   "cell_type": "markdown",
   "id": "f63e7ec1",
   "metadata": {},
   "source": [
    "Importing libraries."
   ]
  },
  {
   "cell_type": "code",
   "execution_count": 1,
   "id": "815bb3f9",
   "metadata": {},
   "outputs": [],
   "source": [
    "import pandas as pd\n",
    "import numpy as np\n",
    "import json\n",
    "from pandas import ExcelWriter\n",
    "import matplotlib.pyplot as plt"
   ]
  },
  {
   "cell_type": "markdown",
   "id": "dbe2c7a3",
   "metadata": {},
   "source": [
    "This is the section in which the molecule name (all lower-case, keep in mind that the variables file can alter names to make them readable in code (replacing characters like \",\", \"+\", \"-\"), a list with all requested modes and a path to the spreadsheet produced by the Pipeline script. Threshold refers to the \"percentage\" point above which displacements should be included."
   ]
  },
  {
   "cell_type": "code",
   "execution_count": 2,
   "id": "9c457802",
   "metadata": {},
   "outputs": [],
   "source": [
    "Molecule = \"vanillin\"\n",
    "\n",
    "Modes = [20, 21, 25, 26, 28, 29, 30, 31, 32, 33, 35, 36, 39, 40, 41]\n",
    "\n",
    "path = Molecule + \"_normal_modes.xlsx\"\n",
    "\n",
    "Threshold = 4"
   ]
  },
  {
   "cell_type": "markdown",
   "id": "bec39aae",
   "metadata": {},
   "source": [
    "This section goes through the normal modes of the spreadsheet, extracts the appropriate displacements (those that meet the threshold criteria) and then organises them into the final dictionary database."
   ]
  },
  {
   "cell_type": "code",
   "execution_count": 3,
   "id": "cf592bd9",
   "metadata": {},
   "outputs": [],
   "source": [
    "exec(\"Vibrations_\" + Molecule + \"= {}\")\n",
    "for mode in Modes:   \n",
    "    Vibrations = {}\n",
    "    df = pd.read_excel(path, sheet_name = \"Normal_mode_\"+str(mode))\n",
    "    df = df.apply(lambda x: pd.Series(x.dropna().values)).fillna('')\n",
    "        \n",
    "    single_stretching_vibrations = {}\n",
    "    single_bending_vibrations = {}\n",
    "    single_wagging_vibrations = {}\n",
    "    \n",
    "    combined_bending_vibrations = {}\n",
    "    combined_wagging_vibrations = {}\n",
    "    \n",
    "    counter = 0\n",
    "    for i in df.iloc[:,2]:\n",
    "        if i != \"\" and float(i) > Threshold:\n",
    "            single_stretching_vibrations[str(df.iloc[counter, 0])]= i\n",
    "        counter = counter + 1\n",
    "         \n",
    "    def common_atoms(a, b):\n",
    "        return list(np.intersect1d(a, b))\n",
    "    \n",
    "    def intersection(lst1, lst2):\n",
    "        lst3 = [value for value in lst1 if value in lst2]\n",
    "        return lst3\n",
    "    \n",
    "    counter_i = -1\n",
    "    \n",
    "    for i in df.iloc[:,3]:\n",
    "        if i != \"\":\n",
    "            counter_j = -1\n",
    "            counter_i = counter_i + 1\n",
    "            i = i.replace(\"(\", \"[\")\n",
    "            i = i.replace(\")\", \"]\")\n",
    "            i = json.loads(i)\n",
    "            for j in df.iloc[:,3]:\n",
    "                if j != \"\":\n",
    "                    counter_j = counter_j + 1\n",
    "                    j = j.replace(\"(\", \"[\")\n",
    "                    j = j.replace(\")\", \"]\")\n",
    "                    j = json.loads(j)\n",
    "                    if j != i and j != \"\":\n",
    "                        if df.iloc[counter_j, 5] > Threshold:\n",
    "                            single_bending_vibrations[str(j)]= float(df.iloc[counter_j,5])\n",
    "                        if i[1] == j[1] and i[2] == j[2] and float(df.iloc[counter_i,5]) > Threshold / 2 and float(df.iloc[counter_j,5]) > Threshold / 2 and float(df.iloc[counter_i,5])+float(df.iloc[counter_j,5]) > Threshold:\n",
    "                            combined_bending_vibrations[str(i) + \",\" + str(j)] = float(df.iloc[counter_i,5])+float(df.iloc[counter_j,5])\n",
    "                        elif i[0] == j[0] and i[1] == j[1] and float(df.iloc[counter_i,5]) > Threshold / 2 and float(df.iloc[counter_j,5]) > Threshold / 2 and float(df.iloc[counter_i,5])+float(df.iloc[counter_j,5]) > Threshold:\n",
    "                            combined_bending_vibrations[str(i) + \",\" + str(j)] = float(df.iloc[counter_i,5])+float(df.iloc[counter_j,5])\n",
    "    \n",
    "            \n",
    "    \n",
    "    \n",
    "    lst_to_pop= []\n",
    "    lst_counted = []\n",
    "    for i in combined_bending_vibrations.keys():\n",
    "        if i not in lst_counted:\n",
    "            i_new = \"[\"+i+\"]\"\n",
    "            i_new = json.loads(i_new)\n",
    "            for j in combined_bending_vibrations.keys():\n",
    "                j_new = \"[\"+j+\"]\"\n",
    "                j_new = json.loads(j_new)\n",
    "                if j_new[0] == i_new[1] and i_new[0] == j_new[1] and i != lst_counted:\n",
    "                        lst_to_pop.append(j)\n",
    "                        lst_counted.append(j)\n",
    "                    \n",
    "    for i in lst_to_pop:\n",
    "        combined_bending_vibrations.pop(i)\n",
    "        \n",
    "    combined_bending_vibrations.update(single_bending_vibrations)\n",
    "    \n",
    "    counter_i = -1\n",
    "    \n",
    "    for i in df.iloc[:,6]:\n",
    "        if i != \"\":\n",
    "            counter_j = -1\n",
    "            counter_i = counter_i + 1\n",
    "            i = i.replace(\"(\", \"[\")\n",
    "            i = i.replace(\")\", \"]\")\n",
    "            i = json.loads(i)\n",
    "            for j in df.iloc[:,6]:\n",
    "                counter_j = counter_j + 1\n",
    "                if j != i and j != \"\":\n",
    "                    j = j.replace(\"(\", \"[\")\n",
    "                    j = j.replace(\")\", \"]\")\n",
    "                    j = json.loads(j)\n",
    "                    if df.iloc[counter_j, 8] > Threshold:\n",
    "                        single_wagging_vibrations[str(j)]= float(df.iloc[counter_j,8])\n",
    "                    if len(intersection(i, j)) == 3 and float(df.iloc[counter_i,8]) > Threshold / 2 and float(df.iloc[counter_j,8]) > Threshold / 2 and float(df.iloc[counter_i,8])+float(df.iloc[counter_j,8]) > Threshold:\n",
    "                        combined_wagging_vibrations[str(i) + \",\" + str(j)] = float(df.iloc[counter_i,8])+float(df.iloc[counter_j,8])\n",
    "    \n",
    "    lst_to_pop= []\n",
    "    lst_counted = []\n",
    "    for i in combined_wagging_vibrations.keys():\n",
    "        if i not in lst_counted:\n",
    "            i_new = \"[\"+i+\"]\"\n",
    "            i_new = json.loads(i_new)\n",
    "            for j in combined_wagging_vibrations.keys():\n",
    "                j_new = \"[\"+j+\"]\"\n",
    "                j_new = json.loads(j_new)\n",
    "                if j_new[0] == i_new[-1] and i_new[0] == j_new[-1] and i != lst_counted:\n",
    "                        lst_to_pop.append(j)\n",
    "                        lst_counted.append(j)\n",
    "                    \n",
    "    for i in lst_to_pop:\n",
    "        combined_wagging_vibrations.pop(i)\n",
    "        \n",
    "    combined_wagging_vibrations.update(single_wagging_vibrations)\n",
    "    Vibrations[\"Stretching\"] = single_stretching_vibrations\n",
    "    Vibrations[\"Bending\"] = combined_bending_vibrations\n",
    "    Vibrations[\"Wagging\"] = combined_wagging_vibrations\n",
    "    exec(\"Vibrations_\" + str(Molecule) + \"[\" + str(mode) +\"] = Vibrations\")"
   ]
  },
  {
   "cell_type": "markdown",
   "id": "31f28499",
   "metadata": {},
   "source": [
    "Though it can't be cohesively viewed on Jupyter, we have produced a database that contains all requested information. One way to view that information is by calling a specific part of the dabatase (the value in the parentheses corresponds to the vibrational mode), such as:"
   ]
  },
  {
   "cell_type": "code",
   "execution_count": 4,
   "id": "0bf1101c",
   "metadata": {},
   "outputs": [
    {
     "data": {
      "text/plain": [
       "{'Stretching': {},\n",
       " 'Bending': {},\n",
       " 'Wagging': {'[2, 1, 6, 14],[7, 1, 6, 14]': 18.799999999999997,\n",
       "  '[2, 3, 4, 5],[3, 4, 5, 6]': 8.0,\n",
       "  '[2, 3, 4, 5],[3, 4, 5, 13]': 11.899999999999999,\n",
       "  '[10, 3, 4, 11],[3, 4, 11, 19]': 5.1,\n",
       "  '[3, 4, 5, 6],[3, 4, 5, 13]': 11.7,\n",
       "  '[3, 4, 5, 6],[4, 5, 6, 14]': 15.1,\n",
       "  '[3, 4, 5, 13],[11, 4, 5, 13]': 20.6,\n",
       "  '[11, 4, 5, 13],[5, 4, 11, 19]': 15.700000000000001,\n",
       "  '[3, 4, 11, 19],[5, 4, 11, 19]': 5.0,\n",
       "  '[2, 1, 6, 14]': 8.7,\n",
       "  '[7, 1, 6, 14]': 10.1,\n",
       "  '[2, 3, 4, 5]': 4.1,\n",
       "  '[3, 4, 5, 13]': 7.8,\n",
       "  '[11, 4, 5, 13]': 12.8,\n",
       "  '[4, 5, 6, 14]': 11.2,\n",
       "  '[13, 5, 6, 1]': 10.7}}"
      ]
     },
     "execution_count": 4,
     "metadata": {},
     "output_type": "execute_result"
    }
   ],
   "source": [
    "Vibrations_vanillin.get(20)"
   ]
  }
 ],
 "metadata": {
  "kernelspec": {
   "display_name": "Python 3 (ipykernel)",
   "language": "python",
   "name": "python3"
  },
  "language_info": {
   "codemirror_mode": {
    "name": "ipython",
    "version": 3
   },
   "file_extension": ".py",
   "mimetype": "text/x-python",
   "name": "python",
   "nbconvert_exporter": "python",
   "pygments_lexer": "ipython3",
   "version": "3.9.13"
  }
 },
 "nbformat": 4,
 "nbformat_minor": 5
}
