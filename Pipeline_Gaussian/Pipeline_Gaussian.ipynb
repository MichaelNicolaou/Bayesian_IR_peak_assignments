{
 "cells": [
  {
   "cell_type": "markdown",
   "id": "7cf3e4be",
   "metadata": {},
   "source": [
    "# Pipeline for Gaussian results #"
   ]
  },
  {
   "cell_type": "markdown",
   "id": "09bd285f",
   "metadata": {},
   "source": [
    "The purpose of this script is to read all Gaussian output (.log) files in a specified folder, extract the information on vibrational frequencies (Frequencies, IR-Raman intensities and normal mode displacements), scale the frequencies, produce visual \"Spectra\" for the theoretical frequencies and then export all that information in an organised manner. "
   ]
  },
  {
   "cell_type": "markdown",
   "id": "76e1d88e",
   "metadata": {},
   "source": [
    "Importing libraries."
   ]
  },
  {
   "cell_type": "code",
   "execution_count": 1,
   "id": "9a4f6990",
   "metadata": {},
   "outputs": [],
   "source": [
    "import pandas as pd\n",
    "import numpy as np\n",
    "import math\n",
    "import os\n",
    "import openpyxl\n",
    "from openpyxl import load_workbook"
   ]
  },
  {
   "cell_type": "markdown",
   "id": "aced2f3b",
   "metadata": {},
   "source": [
    "Defining a function that will be used later on for the inference:\n",
    "\n",
    "Gaussian:\n",
    "    \n",
    "Defines the equation for a Gaussian curve. \n",
    "\n",
    "$$\n",
    "      f(\\chi) = \\frac{1}{\\sqrt{2 \\pi \\sigma^{2}}}e^{\\frac{({\\chi-\\mu})^{2}}{2 {\\sigma^{2}}}}\n",
    "$$\n",
    "* $\\chi$ refers to a specific point on the x-axis. \n",
    "* $f(\\chi)$ refers to the y-value for the specific point. \n",
    "* $\\mu$ refers to the distribution's mean value.\n",
    "* $\\sigma$ refers to the distribution's standard deviation.\n",
    "\n"
   ]
  },
  {
   "cell_type": "code",
   "execution_count": 2,
   "id": "464d3d55",
   "metadata": {},
   "outputs": [],
   "source": [
    "def gauss(x, a, b, c):\n",
    "    return a * (math.e ** (-(((x - b) ** 2) / (2 * (c ** 2)))))"
   ]
  },
  {
   "cell_type": "markdown",
   "id": "4cd8cbba",
   "metadata": {},
   "source": [
    "In this section, the user can set the \"directory\" where the Gaussian output (.log) files are kept and the \"path\" to the excel spreadsheet in which the results should be saved."
   ]
  },
  {
   "cell_type": "code",
   "execution_count": 3,
   "id": "879ffe31",
   "metadata": {},
   "outputs": [],
   "source": [
    "directory = ''\n",
    "path = ''"
   ]
  },
  {
   "cell_type": "markdown",
   "id": "b4a0a5bf",
   "metadata": {},
   "source": [
    "This section creates some lists that are used to collect entries that either show a negative frequency (not optimised) \"negative_freqs_ls\", are missing Raman activities \"no_Raman_ls\" or are missing data all-together \"no_data_ls\", useful for understanding if any calculations need to be re-performed. Those can be viewed after the batch processing of molecules.\n",
    "\n",
    "Additionally, it creates a \"record\" list that contains all processed data, used for transferring them into the output \"Variables_Pipeline_Gaussian.py\" file."
   ]
  },
  {
   "cell_type": "code",
   "execution_count": 4,
   "id": "f3a6b990",
   "metadata": {},
   "outputs": [],
   "source": [
    "negative_freq_ls = []\n",
    "no_Raman_ls = []\n",
    "no_data_ls = []\n",
    "\n",
    "record = []"
   ]
  },
  {
   "cell_type": "markdown",
   "id": "02708449",
   "metadata": {},
   "source": [
    "This section reads each file available in the \"directory\" and extracts the vibrational information (Frequency, IR intensity, Raman activity) as well as the normal mode displacements (R: bond length, A: bond angle and D: bond dihedral angle) for each vibrational mode. It then structures that information into a Pandas dataframe, while also printing a message if it detects a negative frequency or missing data. \n",
    "\n",
    "It then determines which normal mode displacements offer a significant distribution (> 5%) and includes those in the dataframe."
   ]
  },
  {
   "cell_type": "code",
   "execution_count": 5,
   "id": "1a7cf39f",
   "metadata": {},
   "outputs": [
    {
     "name": "stdout",
     "output_type": "stream",
     "text": [
      "Results\\vanillin.log\n"
     ]
    }
   ],
   "source": [
    "for filename in os.listdir(directory):\n",
    "    file = os.path.join(directory, filename)\n",
    "    if os.path.isfile(file):\n",
    "        print(file)\n",
    "\n",
    "    f = open(file)\n",
    "    content = f.readlines()\n",
    "    Freq = []\n",
    "    Infra = []\n",
    "    Raman = []\n",
    "    Normal_modes = []\n",
    "    \n",
    "    normal_toggle = 0\n",
    "    checkpoints = []\n",
    "    counter = 0\n",
    "    \n",
    "    Modes = []\n",
    "    temp_modes = []\n",
    "    for i in content:\n",
    "        if \"Frequencies --\" in i:\n",
    "            j = str.split(i)\n",
    "            for char in j:\n",
    "                if char == \"Frequencies\" or char.isspace() or \"'--'\" in char:\n",
    "                    j.remove(char)\n",
    "                    for value in j:\n",
    "                        if value != \"--\":\n",
    "                            Freq.append(float(value))\n",
    "        elif \"IR Inten\" in i:\n",
    "            j = str.split(i)\n",
    "            for char in j:\n",
    "                if \"IR\" in char or \"Inten\" in char or char.isspace() or \"'--'\" in char:\n",
    "                    j.remove(char)\n",
    "                    for value in j:\n",
    "                        if value != \"--\" and value != \"Inten\":\n",
    "                            Infra.append(float(value))\n",
    "        elif \"Raman Activ\" in i:\n",
    "            j = str.split(i)\n",
    "            for char in j:\n",
    "                if char == \"Raman\" or char.isspace() or \"'--'\" in char:\n",
    "                    j.remove(char)\n",
    "                    for value in j:\n",
    "                        if value != \"--\" and value != \"Activ\":\n",
    "                            Raman.append(float(value))\n",
    "        elif \"Normal Mode\" in i and normal_toggle == 0:\n",
    "            normal_toggle = 1\n",
    "        elif normal_toggle == 1 and \"Axes\" in i:\n",
    "            normal_toggle = 0\n",
    "        elif normal_toggle == 1:\n",
    "            Normal_modes.append(i)\n",
    "    \n",
    "    counter = 1\n",
    "    for i in Normal_modes:\n",
    "        if \"Normal Mode\" in i and temp_modes == []:\n",
    "            Normal_modes.remove(i)\n",
    "        elif \"Normal Mode\" in i and temp_modes != []:\n",
    "            Normal_modes.remove(i)\n",
    "            Modes.append(temp_modes)\n",
    "            temp_modes = []\n",
    "        elif counter == len(Normal_modes):\n",
    "            Normal_modes.remove(i)\n",
    "            Modes.append(temp_modes)\n",
    "            temp_modes = []\n",
    "        elif any(char.isdigit() for char in i) and \"Max\" not in i:\n",
    "            temp_modes.append(i)\n",
    "        counter = counter + 1\n",
    "        \n",
    "    for i in Modes:\n",
    "        for j in i:\n",
    "            mode = str.split(j)\n",
    "            for k in mode:\n",
    "                if k.isspace():\n",
    "                    mode.remove(k)\n",
    "                elif \"!\" in k:\n",
    "                    mode.remove(k)\n",
    "            Modes[Modes.index(i)][Modes[Modes.index(i)].index(j)] = mode\n",
    "            \n",
    "    df = pd.DataFrame({\"Frequency\": Freq, \"IR Intensity\": Infra, \"Raman activity\": Raman})\n",
    "    df.dropna(inplace=True)\n",
    "    df = df.astype(float)\n",
    "    df.insert(3, \"Modes\", Modes)\n",
    "    \n",
    "    if df.empty == True:\n",
    "        print(\"No vibrational information for \" + str.split(str(filename), \".\")[0])\n",
    "        no_data_ls.append(str.split(str(filename), \".\")[0])\n",
    "        continue\n",
    "    elif df.iloc[0, 0].astype(float) < 0:\n",
    "        print(\"Negative frequency found for \" + str.split(str(filename), \".\")[0])\n",
    "        negative_freq_ls.append(str.split(str(filename), \".\")[0])\n",
    "        continue\n",
    "    else: \n",
    "        \n",
    "        df_mode_lst = []\n",
    "        important_contributions = []        \n",
    "        counter = 1\n",
    "        for i in df.iloc[:,3]:\n",
    "            temp_type = []\n",
    "            temp_stretch = []\n",
    "            temp_stretch_sign = []\n",
    "            temp_stretch_perc = []\n",
    "            \n",
    "            temp_bend = []\n",
    "            temp_bend_sign = []\n",
    "            temp_bend_perc = []\n",
    "            \n",
    "            temp_wag = []\n",
    "            temp_wag_sign = []\n",
    "            temp_wag_perc = []\n",
    "            \n",
    "            for j in i:\n",
    "                if \"R\" in j[0]:\n",
    "                    temp_stretch.append(j[1].replace(\"R\",\"\"))\n",
    "                    temp_stretch_sign.append(float(j[2]))\n",
    "                    temp_stretch_perc.append(float(j[3]))\n",
    "                    if float(j[-1]) > 5:\n",
    "                        important_contributions.append(j)\n",
    "                elif \"A\" in j[0]:\n",
    "                    temp_bend.append(j[1].replace(\"A\",\"\"))\n",
    "                    temp_bend_sign.append(float(j[2]))\n",
    "                    temp_bend_perc.append(float(j[3]))     \n",
    "                elif \"D\" in j[0]:\n",
    "                    temp_wag.append(j[1].replace(\"D\",\"\"))\n",
    "                    temp_wag_sign.append(float(j[2]))\n",
    "                    temp_wag_perc.append(float(j[3]))\n",
    "            temp_df_stretch = pd.DataFrame({\"Stretching mode\": temp_stretch, \"Stretch value\": temp_stretch_sign, \"Stretch percentage\": temp_stretch_perc})\n",
    "            temp_df_bend = pd.DataFrame({\"Bending mode\": temp_bend, \"Bend value\": temp_bend_sign, \"Bend percentage\": temp_bend_perc})\n",
    "            temp_df_wag = pd.DataFrame({\"Wagging mode\": temp_wag, \"Wag value\": temp_wag_sign, \"Wag percentage\": temp_wag_perc})\n",
    "            exec(\"df_mode_\"+str(counter)+\" = pd.concat([temp_df_stretch, temp_df_bend, temp_df_wag])\")\n",
    "            df_mode_lst.append(\"df_mode_\"+str(counter))\n",
    "            counter = counter + 1"
   ]
  },
  {
   "cell_type": "markdown",
   "id": "d189a260",
   "metadata": {},
   "source": [
    "This part is where the user can input the scaling factor that they want the frequencies to be scaled by."
   ]
  },
  {
   "cell_type": "code",
   "execution_count": 6,
   "id": "5aed68f5",
   "metadata": {},
   "outputs": [],
   "source": [
    "        Scaling_factor = 0.95  "
   ]
  },
  {
   "cell_type": "markdown",
   "id": "7f949d59",
   "metadata": {},
   "source": [
    "This section then scales all frequencies by the scaling factor and creates empty arrays (size of 4000) for the \"spectra\" to be drawn into. The \"spectra\" consist of two 4000-long arrays, each corresponding to a frequency point on the spectrum. The x-axis array just counts from 1-4000, whereas the y-axis array will contain the intensity information for that point."
   ]
  },
  {
   "cell_type": "code",
   "execution_count": 7,
   "id": "70540e9e",
   "metadata": {},
   "outputs": [],
   "source": [
    "        scaled_freq = []\n",
    "        for i in list(df[\"Frequency\"]):\n",
    "            scaled_freq.append(float(i) * Scaling_factor)\n",
    "        \n",
    "        df.insert(1, \"Scaled Frequency\", scaled_freq)\n",
    "                        \n",
    "        #Get peak x and y values\n",
    "        dfx = list(df.iloc[:,1].round())\n",
    "        df_IR_y = list(df.iloc[:,2])\n",
    "        \n",
    "        if Raman != []:\n",
    "            df_Ram_y = list(df.iloc[:,3])\n",
    "\n",
    "            \n",
    "        #Create new arrays for all spectrum coordinates\n",
    "        x = list(range(1,4001,1))\n",
    "        x = [round(elem, 1) for elem in x]\n",
    "        IR_y = [0] * 4000\n",
    "        Ram_y = [0] * 4000\n",
    "        \n",
    "        #Update peak y-values\n",
    "        counter = -1\n",
    "        for i in x:\n",
    "            counter = counter + 1\n",
    "            if i in dfx:\n",
    "                position = dfx.index(i)\n",
    "                IR_y[counter] = df_IR_y[position]\n",
    "                Ram_y[counter] = df_Ram_y[position]"
   ]
  },
  {
   "cell_type": "markdown",
   "id": "6bcb20af",
   "metadata": {},
   "source": [
    "This is a good point to mention how the \"Graphs\" work. As the DFT-calculation only provides a frequency and intensity value, and not a peak, peaks are instead visualised as gaussian distributions with a fixed std, and the mean of the frequency calculated."
   ]
  },
  {
   "cell_type": "markdown",
   "id": "3f95af84",
   "metadata": {},
   "source": [
    "This section produces the first \"graph\", the \"Convolved graph\", in which the y-axis array contains a sum of all the intensities corresponding to that frequency from all \"peaks\"."
   ]
  },
  {
   "cell_type": "code",
   "execution_count": 8,
   "id": "3f32a5e5",
   "metadata": {},
   "outputs": [
    {
     "name": "stdout",
     "output_type": "stream",
     "text": [
      "Convolved spectra completed\n"
     ]
    }
   ],
   "source": [
    "        IR_y_conv = np.zeros(4000)\n",
    "        \n",
    "        for i in dfx:\n",
    "            templist = [0] * 4000\n",
    "            z = x.index(i)     \n",
    "            if z > 50 and z < 3950:\n",
    "                xdata = np.array(x[(z - 50):(z + 51)])\n",
    "            elif z < 50:\n",
    "                xdata = np.array(x[0:(z + 51)])\n",
    "            elif z > 3950:\n",
    "                xdata = np.array(x[(z - 50):4000])\n",
    "            for j in xdata:\n",
    "                templist[j-1] = gauss(z, IR_y[z], j, 6)\n",
    "            IR_y_conv = IR_y_conv + np.array(templist)\n",
    "\n",
    "        if Raman != []:            \n",
    "            \n",
    "            Ram_y_conv = np.zeros(4000)\n",
    "            \n",
    "            for i in dfx:\n",
    "                templist = [0] * 4000\n",
    "                z = x.index(i)     \n",
    "                if z > 50 and z < 3950:\n",
    "                    xdata = np.array(x[(z - 50):(z + 51)])\n",
    "                elif z < 50:\n",
    "                    xdata = np.array(x[0:(z + 51)])\n",
    "                elif z > 3950:\n",
    "                    xdata = np.array(x[(z - 51):4000])\n",
    "                    \n",
    "                for j in xdata:\n",
    "                    templist[j] = gauss(z, Ram_y[z], j, 6)\n",
    "                Ram_y_conv = Ram_y_conv + np.array(templist)\n",
    "        else:\n",
    "            print(\"Raman unavailable for \" + str.split(str(filename), \".\")[0])\n",
    "        \n",
    "        print(\"Convolved spectra completed\")\n"
   ]
  },
  {
   "cell_type": "markdown",
   "id": "5953ac8a",
   "metadata": {},
   "source": [
    "The last section exports the results. They are exported in two ways:\n",
    "\n",
    "1. An excel spreadsheet, containing a sheet with all frequencies, scaled frequencies, IR intensities, Raman activities and vibrational mode displacements, as well as a sheet for each vibrational mode with organised displacements as \"stretches\", \"bends\" and \"wags\", their contributing atoms and their contributing percentages.\n",
    "\n",
    "\n",
    "2. A Variables_Pipeline_Gaussian.py python file, which contains all produced variables (x-axis and y-axis arrays for convolved IR and Raman spectra for each molecule). This is then fed into further scripts for graph visualisation."
   ]
  },
  {
   "cell_type": "code",
   "execution_count": 11,
   "id": "6c3ca538",
   "metadata": {},
   "outputs": [
    {
     "name": "stdout",
     "output_type": "stream",
     "text": [
      "vanillin completed\n"
     ]
    }
   ],
   "source": [
    "        new_filename = filename.replace(\"-\", \"_\")    \n",
    "        new_filename = new_filename.replace(\"+\", \"plus\")\n",
    "        new_filename = new_filename.replace(\",\", \"_\")\n",
    "        if len(new_filename) >= 31:\n",
    "            new_filename = new_filename[:30]\n",
    "        with open('Variables_Pipeline_Gaussian.py', 'a') as f:\n",
    "            f.write('x_' + str.split(str(new_filename), \".\")[0] + ' = ' + str(x) + '\\n' + 'IR_y_conv_' + str.split(str(new_filename), \".\")[0] + ' = ' + str(list(IR_y_conv)) + '\\n' + 'Ram_y_conv_' + str.split(str(new_filename), \".\")[0] + ' = ' + str(list(Ram_y_conv)) + '\\n')\n",
    "\n",
    "        counter = 1\n",
    "        with pd.ExcelWriter(str.split(str(new_filename), \".\")[0]+\"_normal_modes.xlsx\") as writer:\n",
    "            df.to_excel(writer, sheet_name = \"Frequencies\", index = False)\n",
    "            for i in range(1,len(df_mode_lst)):\n",
    "                name = \"Normal_mode_\"+ str(counter)\n",
    "                exec(str(df_mode_lst[i-1])+\" = \"+str(df_mode_lst[i-1])+\".to_excel(writer, sheet_name =\"+\"'\"+str(name)+\"'\"+\", index = False)\")\n",
    "                counter = counter + 1\n",
    "        print(str.split(str(new_filename), \".\")[0] + \" completed\")\n",
    "\n",
    "        record.append(str.split(str(new_filename), \".\")[0])\n",
    "\n",
    "with open('Variables_Pipeline_Gaussian.py', 'a') as f:\n",
    "    f.write(\"record = \" + str(record))"
   ]
  },
  {
   "cell_type": "code",
   "execution_count": null,
   "id": "b1fa583a",
   "metadata": {},
   "outputs": [],
   "source": []
  }
 ],
 "metadata": {
  "kernelspec": {
   "display_name": "Python 3 (ipykernel)",
   "language": "python",
   "name": "python3"
  },
  "language_info": {
   "codemirror_mode": {
    "name": "ipython",
    "version": 3
   },
   "file_extension": ".py",
   "mimetype": "text/x-python",
   "name": "python",
   "nbconvert_exporter": "python",
   "pygments_lexer": "ipython3",
   "version": "3.12.7"
  }
 },
 "nbformat": 4,
 "nbformat_minor": 5
}
